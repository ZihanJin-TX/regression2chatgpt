{
 "cells": [
  {
   "cell_type": "code",
   "execution_count": 1,
   "metadata": {},
   "outputs": [],
   "source": [
    "# 使用pandas读取数据\n",
    "import pandas as pd\n",
    "\n",
    "\n",
    "data_path = \"./data/adult.data\"\n",
    "raw_data = pd.read_csv(data_path)\n",
    "## 选取需要使用的列\n",
    "cols = [\"age\", \"education_num\",\n",
    "        \"capital_gain\", \"capital_loss\", \"hours_per_week\", \"label\"]\n",
    "data = raw_data[cols]"
   ]
  },
  {
   "cell_type": "code",
   "execution_count": 2,
   "metadata": {},
   "outputs": [
    {
     "name": "stdout",
     "output_type": "stream",
     "text": [
      "/anaconda3/lib/python3.6/site-packages/matplotlib/__init__.py\n"
     ]
    }
   ],
   "source": [
    "import matplotlib\n",
    "print(matplotlib.__file__)"
   ]
  },
  {
   "cell_type": "code",
   "execution_count": 4,
   "metadata": {},
   "outputs": [
    {
     "data": {
      "text/html": [
       "<div>\n",
       "<style scoped>\n",
       "    .dataframe tbody tr th:only-of-type {\n",
       "        vertical-align: middle;\n",
       "    }\n",
       "\n",
       "    .dataframe tbody tr th {\n",
       "        vertical-align: top;\n",
       "    }\n",
       "\n",
       "    .dataframe thead th {\n",
       "        text-align: right;\n",
       "    }\n",
       "</style>\n",
       "<table border=\"1\" class=\"dataframe\">\n",
       "  <thead>\n",
       "    <tr style=\"text-align: right;\">\n",
       "      <th></th>\n",
       "      <th>age</th>\n",
       "      <th>education_num</th>\n",
       "      <th>capital_gain</th>\n",
       "      <th>capital_loss</th>\n",
       "      <th>hours_per_week</th>\n",
       "      <th>label</th>\n",
       "      <th>label_code</th>\n",
       "    </tr>\n",
       "  </thead>\n",
       "  <tbody>\n",
       "    <tr>\n",
       "      <th>0</th>\n",
       "      <td>39</td>\n",
       "      <td>13</td>\n",
       "      <td>2174</td>\n",
       "      <td>0</td>\n",
       "      <td>40</td>\n",
       "      <td>&lt;=50K</td>\n",
       "      <td>0</td>\n",
       "    </tr>\n",
       "    <tr>\n",
       "      <th>1</th>\n",
       "      <td>50</td>\n",
       "      <td>13</td>\n",
       "      <td>0</td>\n",
       "      <td>0</td>\n",
       "      <td>13</td>\n",
       "      <td>&lt;=50K</td>\n",
       "      <td>0</td>\n",
       "    </tr>\n",
       "    <tr>\n",
       "      <th>2</th>\n",
       "      <td>38</td>\n",
       "      <td>9</td>\n",
       "      <td>0</td>\n",
       "      <td>0</td>\n",
       "      <td>40</td>\n",
       "      <td>&lt;=50K</td>\n",
       "      <td>0</td>\n",
       "    </tr>\n",
       "    <tr>\n",
       "      <th>3</th>\n",
       "      <td>53</td>\n",
       "      <td>7</td>\n",
       "      <td>0</td>\n",
       "      <td>0</td>\n",
       "      <td>40</td>\n",
       "      <td>&lt;=50K</td>\n",
       "      <td>0</td>\n",
       "    </tr>\n",
       "    <tr>\n",
       "      <th>4</th>\n",
       "      <td>28</td>\n",
       "      <td>13</td>\n",
       "      <td>0</td>\n",
       "      <td>0</td>\n",
       "      <td>40</td>\n",
       "      <td>&lt;=50K</td>\n",
       "      <td>0</td>\n",
       "    </tr>\n",
       "  </tbody>\n",
       "</table>\n",
       "</div>"
      ],
      "text/plain": [
       "   age  education_num  capital_gain  capital_loss  hours_per_week   label  \\\n",
       "0   39             13          2174             0              40   <=50K   \n",
       "1   50             13             0             0              13   <=50K   \n",
       "2   38              9             0             0              40   <=50K   \n",
       "3   53              7             0             0              40   <=50K   \n",
       "4   28             13             0             0              40   <=50K   \n",
       "\n",
       "   label_code  \n",
       "0           0  \n",
       "1           0  \n",
       "2           0  \n",
       "3           0  \n",
       "4           0  "
      ]
     },
     "execution_count": 4,
     "metadata": {},
     "output_type": "execute_result"
    }
   ],
   "source": [
    "# 将label转换为可以运算的变量\n",
    "data.loc[:, \"label_code\"] = pd.Categorical(data.label).codes\n",
    "data.head()"
   ]
  },
  {
   "cell_type": "code",
   "execution_count": 5,
   "metadata": {},
   "outputs": [],
   "source": [
    "# 将数据分为训练集和测试集\n",
    "from sklearn.model_selection import train_test_split\n",
    "\n",
    "\n",
    "train_set, test_set = train_test_split(data, test_size=0.2, random_state=2310)"
   ]
  },
  {
   "cell_type": "code",
   "execution_count": 6,
   "metadata": {},
   "outputs": [
    {
     "data": {
      "text/html": [
       "<div>\n",
       "<style scoped>\n",
       "    .dataframe tbody tr th:only-of-type {\n",
       "        vertical-align: middle;\n",
       "    }\n",
       "\n",
       "    .dataframe tbody tr th {\n",
       "        vertical-align: top;\n",
       "    }\n",
       "\n",
       "    .dataframe thead th {\n",
       "        text-align: right;\n",
       "    }\n",
       "</style>\n",
       "<table border=\"1\" class=\"dataframe\">\n",
       "  <thead>\n",
       "    <tr style=\"text-align: right;\">\n",
       "      <th></th>\n",
       "      <th>label</th>\n",
       "      <th>hours</th>\n",
       "    </tr>\n",
       "  </thead>\n",
       "  <tbody>\n",
       "    <tr>\n",
       "      <th>0</th>\n",
       "      <td>&lt;=50K</td>\n",
       "      <td>10</td>\n",
       "    </tr>\n",
       "    <tr>\n",
       "      <th>1</th>\n",
       "      <td>&lt;=50K</td>\n",
       "      <td>11</td>\n",
       "    </tr>\n",
       "    <tr>\n",
       "      <th>2</th>\n",
       "      <td>&lt;=50K</td>\n",
       "      <td>15</td>\n",
       "    </tr>\n",
       "    <tr>\n",
       "      <th>3</th>\n",
       "      <td>&gt;50K</td>\n",
       "      <td>12</td>\n",
       "    </tr>\n",
       "    <tr>\n",
       "      <th>4</th>\n",
       "      <td>&gt;50K</td>\n",
       "      <td>13</td>\n",
       "    </tr>\n",
       "  </tbody>\n",
       "</table>\n",
       "</div>"
      ],
      "text/plain": [
       "   label  hours\n",
       "0  <=50K     10\n",
       "1  <=50K     11\n",
       "2  <=50K     15\n",
       "3   >50K     12\n",
       "4   >50K     13"
      ]
     },
     "execution_count": 6,
     "metadata": {},
     "output_type": "execute_result"
    }
   ],
   "source": [
    "import scipy.stats as scs\n",
    "\n",
    "\n",
    "# 调试代码用的数据\n",
    "tmp_data = [[\"<=50K\", 10], [\"<=50K\", 11], [\"<=50K\", 15], [\" >50K\", 12], [\" >50K\", 13]] \n",
    "tmp_df = pd.DataFrame(tmp_data, columns = ['label', 'hours'])\n",
    "tmp_df.head()"
   ]
  },
  {
   "cell_type": "code",
   "execution_count": 7,
   "metadata": {},
   "outputs": [
    {
     "data": {
      "text/plain": [
       "0    (9.999, 11.0]\n",
       "1    (9.999, 11.0]\n",
       "2     (11.0, 15.0]\n",
       "3     (11.0, 15.0]\n",
       "4     (11.0, 15.0]\n",
       "Name: hours, dtype: category\n",
       "Categories (2, interval[float64]): [(9.999, 11.0] < (11.0, 15.0]]"
      ]
     },
     "execution_count": 7,
     "metadata": {},
     "output_type": "execute_result"
    }
   ],
   "source": [
    "# 将hours划分成类别变量\n",
    "tmp_cat = pd.cut(tmp_df[\"hours\"], [10, 11, 15], include_lowest=True)\n",
    "tmp_cat"
   ]
  },
  {
   "cell_type": "code",
   "execution_count": 8,
   "metadata": {},
   "outputs": [
    {
     "data": {
      "text/html": [
       "<div>\n",
       "<style scoped>\n",
       "    .dataframe tbody tr th:only-of-type {\n",
       "        vertical-align: middle;\n",
       "    }\n",
       "\n",
       "    .dataframe tbody tr th {\n",
       "        vertical-align: top;\n",
       "    }\n",
       "\n",
       "    .dataframe thead th {\n",
       "        text-align: right;\n",
       "    }\n",
       "</style>\n",
       "<table border=\"1\" class=\"dataframe\">\n",
       "  <thead>\n",
       "    <tr style=\"text-align: right;\">\n",
       "      <th>hours</th>\n",
       "      <th>(9.999, 11.0]</th>\n",
       "      <th>(11.0, 15.0]</th>\n",
       "    </tr>\n",
       "    <tr>\n",
       "      <th>label</th>\n",
       "      <th></th>\n",
       "      <th></th>\n",
       "    </tr>\n",
       "  </thead>\n",
       "  <tbody>\n",
       "    <tr>\n",
       "      <th>&gt;50K</th>\n",
       "      <td>0</td>\n",
       "      <td>2</td>\n",
       "    </tr>\n",
       "    <tr>\n",
       "      <th>&lt;=50K</th>\n",
       "      <td>2</td>\n",
       "      <td>1</td>\n",
       "    </tr>\n",
       "  </tbody>\n",
       "</table>\n",
       "</div>"
      ],
      "text/plain": [
       "hours  (9.999, 11.0]  (11.0, 15.0]\n",
       "label                             \n",
       " >50K              0             2\n",
       "<=50K              2             1"
      ]
     },
     "execution_count": 8,
     "metadata": {},
     "output_type": "execute_result"
    }
   ],
   "source": [
    "# 计算列联表\n",
    "tmp_cross = pd.crosstab(tmp_df[\"label\"], tmp_cat)\n",
    "tmp_cross.head()"
   ]
  },
  {
   "cell_type": "code",
   "execution_count": 9,
   "metadata": {},
   "outputs": [
    {
     "data": {
      "text/plain": [
       "(0.31250000000000006, 0.5761501220305787, 1, array([[0.8, 1.2],\n",
       "        [1.2, 1.8]]))"
      ]
     },
     "execution_count": 9,
     "metadata": {},
     "output_type": "execute_result"
    }
   ],
   "source": [
    "# 卡方统计量\n",
    "scs.chi2_contingency(tmp_cross)"
   ]
  },
  {
   "cell_type": "code",
   "execution_count": 10,
   "metadata": {},
   "outputs": [],
   "source": [
    "def divide_data(data, min_value, max_value):\n",
    "    \"\"\"\n",
    "    遍历所有可能的分段，返回卡方统计量最高的分段\n",
    "    \"\"\"\n",
    "    max_chi2 = 0\n",
    "    index = -1\n",
    "    max_p_value = 0\n",
    "    for i in range(min_value + 1, max_value):\n",
    "        category = pd.cut(data[\"hours_per_week\"], [min_value, i, max_value],\n",
    "                          include_lowest=True)\n",
    "        cross = pd.crosstab(data[\"label\"], category)\n",
    "        chi2, p_value, _, _ = scs.chi2_contingency(cross)\n",
    "        if chi2 > max_chi2:\n",
    "            max_p_value = p_value\n",
    "            max_chi2 = chi2\n",
    "            index = i\n",
    "    return max_p_value, max_chi2, index\n",
    "\n",
    "\n",
    "def do_divide(data, interval):\n",
    "    \"\"\"\n",
    "    使用贪心算法，得到“最优”的分段\n",
    "    \"\"\"\n",
    "    category = []\n",
    "    p_value, chi2, index = divide_data(data, interval[0], interval[1])\n",
    "    if chi2 < 15:\n",
    "        category.append(interval)\n",
    "    else:\n",
    "        category += do_divide(data, [interval[0], index])\n",
    "        category += do_divide(data, [index, interval[1]])\n",
    "    return category\n",
    "\n",
    "\n",
    "def get_category(data):\n",
    "    \"\"\"\n",
    "    基于卡方检验，得到每星期工作时间的“最优”分段\n",
    "    \"\"\"\n",
    "    interval = [data[\"hours_per_week\"].min(), data[\"hours_per_week\"].max()]\n",
    "    _category = do_divide(data, interval)\n",
    "    s = set()\n",
    "    for i in _category:\n",
    "        s = s.union(set(i))\n",
    "    category = list(s)\n",
    "    category.sort()\n",
    "    return category"
   ]
  },
  {
   "cell_type": "code",
   "execution_count": 11,
   "metadata": {},
   "outputs": [
    {
     "name": "stdout",
     "output_type": "stream",
     "text": [
      "[1, 34, 37, 41, 49, 99]\n",
      "['1-34', '34-37', '37-41', '41-49', '49-99']\n"
     ]
    }
   ],
   "source": [
    "# 如果想将hours_per_week等分成10份则\n",
    "# category = range(0, 105, 10)\n",
    "category = get_category(train_set)\n",
    "print(category)\n",
    "labels = [\"{0}-{1}\".format(category[i], category[i+1]) for i in range(len(category) - 1)]\n",
    "print(labels)"
   ]
  },
  {
   "cell_type": "code",
   "execution_count": 13,
   "metadata": {},
   "outputs": [
    {
     "data": {
      "text/html": [
       "<div>\n",
       "<style scoped>\n",
       "    .dataframe tbody tr th:only-of-type {\n",
       "        vertical-align: middle;\n",
       "    }\n",
       "\n",
       "    .dataframe tbody tr th {\n",
       "        vertical-align: top;\n",
       "    }\n",
       "\n",
       "    .dataframe thead th {\n",
       "        text-align: right;\n",
       "    }\n",
       "</style>\n",
       "<table border=\"1\" class=\"dataframe\">\n",
       "  <thead>\n",
       "    <tr style=\"text-align: right;\">\n",
       "      <th></th>\n",
       "      <th>age</th>\n",
       "      <th>education_num</th>\n",
       "      <th>capital_gain</th>\n",
       "      <th>capital_loss</th>\n",
       "      <th>hours_per_week</th>\n",
       "      <th>label</th>\n",
       "      <th>label_code</th>\n",
       "      <th>hours_per_week_group</th>\n",
       "    </tr>\n",
       "  </thead>\n",
       "  <tbody>\n",
       "    <tr>\n",
       "      <th>24654</th>\n",
       "      <td>36</td>\n",
       "      <td>10</td>\n",
       "      <td>0</td>\n",
       "      <td>0</td>\n",
       "      <td>40</td>\n",
       "      <td>&gt;50K</td>\n",
       "      <td>1</td>\n",
       "      <td>37-41</td>\n",
       "    </tr>\n",
       "    <tr>\n",
       "      <th>16793</th>\n",
       "      <td>50</td>\n",
       "      <td>7</td>\n",
       "      <td>0</td>\n",
       "      <td>0</td>\n",
       "      <td>40</td>\n",
       "      <td>&lt;=50K</td>\n",
       "      <td>0</td>\n",
       "      <td>37-41</td>\n",
       "    </tr>\n",
       "    <tr>\n",
       "      <th>16519</th>\n",
       "      <td>26</td>\n",
       "      <td>13</td>\n",
       "      <td>0</td>\n",
       "      <td>0</td>\n",
       "      <td>40</td>\n",
       "      <td>&lt;=50K</td>\n",
       "      <td>0</td>\n",
       "      <td>37-41</td>\n",
       "    </tr>\n",
       "    <tr>\n",
       "      <th>17001</th>\n",
       "      <td>43</td>\n",
       "      <td>10</td>\n",
       "      <td>3103</td>\n",
       "      <td>0</td>\n",
       "      <td>40</td>\n",
       "      <td>&gt;50K</td>\n",
       "      <td>1</td>\n",
       "      <td>37-41</td>\n",
       "    </tr>\n",
       "    <tr>\n",
       "      <th>23618</th>\n",
       "      <td>41</td>\n",
       "      <td>14</td>\n",
       "      <td>0</td>\n",
       "      <td>0</td>\n",
       "      <td>40</td>\n",
       "      <td>&gt;50K</td>\n",
       "      <td>1</td>\n",
       "      <td>37-41</td>\n",
       "    </tr>\n",
       "  </tbody>\n",
       "</table>\n",
       "</div>"
      ],
      "text/plain": [
       "       age  education_num  capital_gain  capital_loss  hours_per_week   label  \\\n",
       "24654   36             10             0             0              40    >50K   \n",
       "16793   50              7             0             0              40   <=50K   \n",
       "16519   26             13             0             0              40   <=50K   \n",
       "17001   43             10          3103             0              40    >50K   \n",
       "23618   41             14             0             0              40    >50K   \n",
       "\n",
       "       label_code hours_per_week_group  \n",
       "24654           1                37-41  \n",
       "16793           0                37-41  \n",
       "16519           0                37-41  \n",
       "17001           1                37-41  \n",
       "23618           1                37-41  "
      ]
     },
     "execution_count": 13,
     "metadata": {},
     "output_type": "execute_result"
    }
   ],
   "source": [
    "train_set.loc[:, \"hours_per_week_group\"] = pd.cut(train_set[\"hours_per_week\"],\n",
    "                                           category, include_lowest=True, labels=labels)\n",
    "test_set.loc[:, \"hours_per_week_group\"] = pd.cut(test_set[\"hours_per_week\"],\n",
    "                                           category, include_lowest=True, labels=labels)\n",
    "train_set.head()"
   ]
  },
  {
   "cell_type": "code",
   "execution_count": 14,
   "metadata": {},
   "outputs": [
    {
     "name": "stdout",
     "output_type": "stream",
     "text": [
      "Optimization terminated successfully.\n",
      "         Current function value: 0.419160\n",
      "         Iterations 8\n"
     ]
    }
   ],
   "source": [
    "# 训练模型\n",
    "import statsmodels.api as sm\n",
    "\n",
    "\n",
    "c_formula = \"label_code ~ education_num + capital_gain + capital_loss + C(hours_per_week_group)\"\n",
    "c_model = sm.Logit.from_formula(c_formula, data=train_set)\n",
    "c_model = c_model.fit()"
   ]
  },
  {
   "cell_type": "code",
   "execution_count": 15,
   "metadata": {},
   "outputs": [
    {
     "name": "stdout",
     "output_type": "stream",
     "text": [
      "Optimization terminated successfully.\n",
      "         Current function value: 0.426128\n",
      "         Iterations 8\n"
     ]
    }
   ],
   "source": [
    "b_formula = \"label_code ~ education_num + capital_gain + capital_loss + hours_per_week\"\n",
    "b_model = sm.Logit.from_formula(b_formula, data=train_set)\n",
    "b_model = b_model.fit()"
   ]
  },
  {
   "cell_type": "code",
   "execution_count": 16,
   "metadata": {},
   "outputs": [
    {
     "name": "stdout",
     "output_type": "stream",
     "text": [
      "                           Logit Regression Results                           \n",
      "==============================================================================\n",
      "Dep. Variable:             label_code   No. Observations:                26048\n",
      "Model:                          Logit   Df Residuals:                    26040\n",
      "Method:                           MLE   Df Model:                            7\n",
      "Date:                Mon, 08 Jul 2019   Pseudo R-squ.:                  0.2402\n",
      "Time:                        00:20:24   Log-Likelihood:                -10918.\n",
      "converged:                       True   LL-Null:                       -14370.\n",
      "                                        LLR p-value:                     0.000\n",
      "====================================================================================================\n",
      "                                       coef    std err          z      P>|z|      [0.025      0.975]\n",
      "----------------------------------------------------------------------------------------------------\n",
      "Intercept                           -6.1007      0.107    -57.082      0.000      -6.310      -5.891\n",
      "C(hours_per_week_group)[T.34-37]     0.7750      0.109      7.138      0.000       0.562       0.988\n",
      "C(hours_per_week_group)[T.37-41]     1.2699      0.070     18.230      0.000       1.133       1.406\n",
      "C(hours_per_week_group)[T.41-49]     1.7780      0.081     21.997      0.000       1.620       1.936\n",
      "C(hours_per_week_group)[T.49-99]     1.9936      0.073     27.312      0.000       1.851       2.137\n",
      "education_num                        0.3118      0.008     40.824      0.000       0.297       0.327\n",
      "capital_gain                         0.0003   1.07e-05     31.098      0.000       0.000       0.000\n",
      "capital_loss                         0.0008   3.55e-05     21.325      0.000       0.001       0.001\n",
      "====================================================================================================\n"
     ]
    }
   ],
   "source": [
    "print(c_model.summary())"
   ]
  },
  {
   "cell_type": "code",
   "execution_count": 18,
   "metadata": {},
   "outputs": [
    {
     "data": {
      "text/html": [
       "<div>\n",
       "<style scoped>\n",
       "    .dataframe tbody tr th:only-of-type {\n",
       "        vertical-align: middle;\n",
       "    }\n",
       "\n",
       "    .dataframe tbody tr th {\n",
       "        vertical-align: top;\n",
       "    }\n",
       "\n",
       "    .dataframe thead th {\n",
       "        text-align: right;\n",
       "    }\n",
       "</style>\n",
       "<table border=\"1\" class=\"dataframe\">\n",
       "  <thead>\n",
       "    <tr style=\"text-align: right;\">\n",
       "      <th></th>\n",
       "      <th>age</th>\n",
       "      <th>education_num</th>\n",
       "      <th>capital_gain</th>\n",
       "      <th>capital_loss</th>\n",
       "      <th>hours_per_week</th>\n",
       "      <th>label</th>\n",
       "      <th>label_code</th>\n",
       "      <th>hours_per_week_group</th>\n",
       "      <th>b_prob</th>\n",
       "      <th>c_prob</th>\n",
       "    </tr>\n",
       "  </thead>\n",
       "  <tbody>\n",
       "    <tr>\n",
       "      <th>19463</th>\n",
       "      <td>55</td>\n",
       "      <td>9</td>\n",
       "      <td>0</td>\n",
       "      <td>0</td>\n",
       "      <td>40</td>\n",
       "      <td>&lt;=50K</td>\n",
       "      <td>0</td>\n",
       "      <td>37-41</td>\n",
       "      <td>0.113848</td>\n",
       "      <td>0.116607</td>\n",
       "    </tr>\n",
       "    <tr>\n",
       "      <th>24430</th>\n",
       "      <td>38</td>\n",
       "      <td>10</td>\n",
       "      <td>0</td>\n",
       "      <td>0</td>\n",
       "      <td>40</td>\n",
       "      <td>&lt;=50K</td>\n",
       "      <td>0</td>\n",
       "      <td>37-41</td>\n",
       "      <td>0.150374</td>\n",
       "      <td>0.152748</td>\n",
       "    </tr>\n",
       "    <tr>\n",
       "      <th>19621</th>\n",
       "      <td>36</td>\n",
       "      <td>11</td>\n",
       "      <td>0</td>\n",
       "      <td>0</td>\n",
       "      <td>60</td>\n",
       "      <td>&lt;=50K</td>\n",
       "      <td>0</td>\n",
       "      <td>49-99</td>\n",
       "      <td>0.343604</td>\n",
       "      <td>0.336763</td>\n",
       "    </tr>\n",
       "    <tr>\n",
       "      <th>3862</th>\n",
       "      <td>41</td>\n",
       "      <td>11</td>\n",
       "      <td>0</td>\n",
       "      <td>1848</td>\n",
       "      <td>48</td>\n",
       "      <td>&gt;50K</td>\n",
       "      <td>1</td>\n",
       "      <td>41-49</td>\n",
       "      <td>0.576574</td>\n",
       "      <td>0.623599</td>\n",
       "    </tr>\n",
       "    <tr>\n",
       "      <th>27549</th>\n",
       "      <td>20</td>\n",
       "      <td>10</td>\n",
       "      <td>0</td>\n",
       "      <td>0</td>\n",
       "      <td>40</td>\n",
       "      <td>&lt;=50K</td>\n",
       "      <td>0</td>\n",
       "      <td>37-41</td>\n",
       "      <td>0.150374</td>\n",
       "      <td>0.152748</td>\n",
       "    </tr>\n",
       "  </tbody>\n",
       "</table>\n",
       "</div>"
      ],
      "text/plain": [
       "       age  education_num  capital_gain  capital_loss  hours_per_week   label  \\\n",
       "19463   55              9             0             0              40   <=50K   \n",
       "24430   38             10             0             0              40   <=50K   \n",
       "19621   36             11             0             0              60   <=50K   \n",
       "3862    41             11             0          1848              48    >50K   \n",
       "27549   20             10             0             0              40   <=50K   \n",
       "\n",
       "       label_code hours_per_week_group    b_prob    c_prob  \n",
       "19463           0                37-41  0.113848  0.116607  \n",
       "24430           0                37-41  0.150374  0.152748  \n",
       "19621           0                49-99  0.343604  0.336763  \n",
       "3862            1                41-49  0.576574  0.623599  \n",
       "27549           0                37-41  0.150374  0.152748  "
      ]
     },
     "execution_count": 18,
     "metadata": {},
     "output_type": "execute_result"
    }
   ],
   "source": [
    "# 得到预测结果\n",
    "test_set.loc[:, \"b_prob\"] = b_model.predict(test_set)\n",
    "test_set.loc[:, \"c_prob\"] = c_model.predict(test_set)\n",
    "test_set.head()"
   ]
  },
  {
   "cell_type": "code",
   "execution_count": 19,
   "metadata": {},
   "outputs": [
    {
     "data": {
      "image/png": "[encoded data removed]",
      "text/plain": [
       "<matplotlib.figure.Figure at 0x10c49fcc0>"
      ]
     },
     "metadata": {
      "needs_background": "light"
     },
     "output_type": "display_data"
    }
   ],
   "source": [
    "# ROC曲线\n",
    "from sklearn import metrics\n",
    "import matplotlib.pyplot as plt\n",
    "\n",
    "\n",
    "# 计算b_model的预测效果\n",
    "b_fpr, b_tpr, _ = metrics.roc_curve(test_set[\"label_code\"], test_set[\"b_prob\"])\n",
    "b_auc = metrics.auc(b_fpr, b_tpr)\n",
    "# 计算c_model的预测效果\n",
    "c_fpr, c_tpr, _ = metrics.roc_curve(test_set[\"label_code\"], test_set[\"c_prob\"])\n",
    "c_auc = metrics.auc(c_fpr, c_tpr)\n",
    "# 画图\n",
    "fig = plt.figure(figsize=(6, 6), dpi=80)\n",
    "# 在图形框里只画一幅图\n",
    "ax = fig.add_subplot(1, 1, 1)\n",
    "ax.plot(c_fpr, c_tpr, \"k\",\n",
    "        label=\"%s; %s = %0.3f\" % (\"转换后的ROC曲线\", \"曲线下面积（AUC）\", c_auc))\n",
    "ax.plot(b_fpr, b_tpr, \"b-.\",\n",
    "        label=\"%s; %s = %0.3f\" % (\"转换前的ROC曲线\", \"曲线下面积（AUC）\", b_auc))\n",
    "ax.set_xlim([0, 1])\n",
    "ax.set_ylim([0, 1])\n",
    "legend = plt.legend(shadow=True)\n",
    "plt.show()"
   ]
  }
 ],
 "metadata": {
  "kernelspec": {
   "display_name": "Python 3",
   "language": "python",
   "name": "python3"
  },
  "language_info": {
   "codemirror_mode": {
    "name": "ipython",
    "version": 3
   },
   "file_extension": ".py",
   "mimetype": "text/x-python",
   "name": "python",
   "nbconvert_exporter": "python",
   "pygments_lexer": "ipython3",
   "version": "3.6.6"
  }
 },
 "nbformat": 4,
 "nbformat_minor": 2
}
